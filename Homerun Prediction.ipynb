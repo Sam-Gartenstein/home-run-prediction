{
 "cells": [
  {
   "cell_type": "markdown",
   "metadata": {
    "id": "EE_kVxc9XiEp"
   },
   "source": [
    "# ⚾ Home Run Prediction\n",
    "\n",
    "The goal of this project is to estimate the probability that a batter will hit a home run during a given plate appearance in the 2025 Major League Baseball (MLB) season (through June 9th). Using a Bayesian hierarchical model, I incorporate both batter-specific and pitcher-specific effects to account for variation in home run likelihood across different matchups. This approach enables partial pooling, providing robust inference even for players with limited data.\n",
    "\n",
    "This notebook serves as an initial foundation. Future iterations will incorporate additional variables related to batting, pitching, and environmental conditions (such as ballpark characteristics and weather).\n"
   ]
  },
  {
   "cell_type": "code",
   "execution_count": null,
   "metadata": {
    "colab": {
     "base_uri": "https://localhost:8080/"
    },
    "id": "Y2x7aLR8YoTU",
    "outputId": "dd427e73-4111-41f0-c584-3b849f3a08a5"
   },
   "outputs": [],
   "source": [
    "# # Import libraries\n",
    "import pymc as pm\n",
    "import arviz as az\n",
    "import numpy as np\n",
    "import pandas as pd\n",
    "\n",
    "# Mount Google Drive to access files stored in Drive from Colab\n",
    "from google.colab import drive\n",
    "drive.mount('/content/drive')"
   ]
  },
  {
   "cell_type": "markdown",
   "metadata": {
    "id": "5RVV8Ym8Xdba"
   },
   "source": [
    "## Reading in Data"
   ]
  },
  {
   "cell_type": "code",
   "execution_count": null,
   "metadata": {
    "colab": {
     "base_uri": "https://localhost:8080/",
     "height": 292
    },
    "id": "5zNobzcgXN_I",
    "outputId": "6ac1dd4c-99a9-45b4-fe5a-cc140a3d23ab"
   },
   "outputs": [],
   "source": [
    "# Load the at-bats dataset from Google Drive\n",
    "at_bats_2025 = pd.read_csv(\"/content/drive/MyDrive/Homerun Prediction Model/data/at_bats_2025.csv\")\n",
    "at_bats_2025.head()"
   ]
  },
  {
   "cell_type": "code",
   "execution_count": null,
   "metadata": {
    "colab": {
     "base_uri": "https://localhost:8080/"
    },
    "id": "cUj7W6I1gAyW",
    "outputId": "32258e86-b7bd-4015-e01e-76edcc265573"
   },
   "outputs": [],
   "source": [
    "# Examine shape of the at-bats dataset\n",
    "at_bats_2025.shape"
   ]
  },
  {
   "cell_type": "markdown",
   "metadata": {
    "id": "2kncoXxNghNN"
   },
   "source": [
    "## Home Run Rate\n",
    "\n",
    "The code below calculates the empirical home run rate from the dataset by dividing the total number of home runs by the total number of plate appearances (at-bats). This provides a baseline estimate of how frequently home runs occur in the dataset and informs the selection of prior distributions for the model's parameters.\n"
   ]
  },
  {
   "cell_type": "code",
   "execution_count": null,
   "metadata": {
    "colab": {
     "base_uri": "https://localhost:8080/"
    },
    "id": "Z1UtOqh0gA0j",
    "outputId": "dd2e3259-2ae1-4e5b-cda4-298573313f30"
   },
   "outputs": [],
   "source": [
    "# Total number of at-bats\n",
    "total_at_bats = len(at_bats_2025)\n",
    "\n",
    "# Total number of home runs\n",
    "total_home_runs = at_bats_2025[\"home_run\"].sum()\n",
    "\n",
    "# Empirical home run rate\n",
    "hr_rate = total_home_runs / total_at_bats\n",
    "\n",
    "print(f\"Home Run Rate: {hr_rate:.4f} ({hr_rate*100:.2f}%)\")"
   ]
  },
  {
   "cell_type": "markdown",
   "metadata": {
    "id": "eBh8lX7gZNbs"
   },
   "source": [
    "## Bayesian Home Run Model with Partial Pooling\n",
    "\n",
    "To start, I construct a Bayesian model to estimate the probability that a given batter hits a home run against a given pitcher. I model each plate appearance (at-bat) as a separate Bernoulli trial, allowing for fine-grained modeling of individual outcomes and capturing variation across both batters and pitchers.\n",
    "\n",
    "Home run outcomes are influenced by both the batter's offensive power and the pitcher's ability to suppress power. We model the probability of a home run during an individual plate appearance between batter $i$ and pitcher $j$ as:\n",
    "\n",
    "$ $\n",
    "\n",
    "$$\n",
    "\\theta_{ij} = \\frac{\\alpha_i}{\\alpha_i + \\beta_j}\n",
    "$$\n",
    "\n",
    "$ $\n",
    "\n",
    "(where this expression mirrors the [Expectation of the Beta distribution](https://en.wikipedia.org/wiki/Beta_distribution)\n",
    "with parameters $\\alpha_i$ and $\\beta_j$)\n",
    "\n",
    "\n",
    "where:\n",
    "\n",
    "- $\\alpha_i$ is a latent, non-negative parameter representing batter $i$'s propensity to hit home runs  \n",
    "- $\\beta_j$ is a latent, non-negative parameter representing pitcher $j$'s ability to suppress home runs\n",
    "\n",
    "The outcome is whether or not the batter hits a home run, modeled as:\n",
    "\n",
    "$ $\n",
    "\n",
    "$$\n",
    "y_{ij} \\sim \\text{Bernoulli}(\\theta_{ij})\n",
    "$$\n",
    "\n"
   ]
  },
  {
   "cell_type": "markdown",
   "metadata": {
    "id": "hJNS6FCbCoT3"
   },
   "source": [
    "### Hierarchical Modeling and Partial Pooling\n",
    "\n",
    "I place Half-Normal priors on the batter-specific $\\alpha_i$ and pitcher-specific $\\beta_j$ parameters:\n",
    "\n",
    "$ $\n",
    "\n",
    "$$\n",
    "\\alpha_i \\sim \\text{HalfNormal}(\\sigma = 0.03) \\\\\n",
    "\\beta_j \\sim \\text{HalfNormal}(\\sigma = 1)\n",
    "$$\n",
    "\n",
    "$ $\n",
    "\n",
    "These priors are fixed to reflect observed data characteristics:\n",
    "\n",
    "- A typical home run rate of 2.88% motivates setting $\\sigma = 0.03$ for batters, since the expected value of $\\frac{\\alpha_i}{\\alpha_i + \\beta_j}$ should roughly match this proportion\n",
    "- A broader prior on pitchers ($\\sigma = 1$) allows more flexibility in modeling suppression ability across the population\n",
    "\n",
    "This setup encourages realistic prior predictions while enabling **partial pooling**:\n",
    "\n",
    "- Players with limited data shrink toward the population average\n",
    "- More observed data allows the model to learn individualized strengths or weaknesses\n",
    "- The Half-Normal constraint keeps all parameters non-negative, consistent with their interpretation as rate-like quantities\n",
    "\n",
    "By fixing the hyperparameters, we gain control over prior influence and ensure alignment with empirical data patterns.\n"
   ]
  },
  {
   "cell_type": "markdown",
   "metadata": {
    "id": "IHJ9n8Asoo-v"
   },
   "source": [
    "### Posterior Sampling Configuration\n",
    "\n",
    "The sampling configuration uses 2,000 posterior draws, 1,000 tuning steps, and a target acceptance probability of 0.9, which [reduces the likelihood of divergent transitions and improves stability](https://discourse.pymc.io/t/there-were-12-divergences-after-tuning-increase-target-accept-or-reparameterize/7945).\n"
   ]
  },
  {
   "cell_type": "code",
   "execution_count": null,
   "metadata": {
    "id": "ZyFlxarEXg9H"
   },
   "outputs": [],
   "source": [
    "# Assign integer indices to each unique batter and pitcher\n",
    "at_bats_2025[\"batter_idx\"] = at_bats_2025[\"batter_name\"].astype(\"category\").cat.codes\n",
    "at_bats_2025[\"pitcher_idx\"] = at_bats_2025[\"pitcher_name\"].astype(\"category\").cat.codes\n",
    "\n",
    "# Count total number of unique batters and pitchers\n",
    "num_batters = at_bats_2025[\"batter_idx\"].nunique()\n",
    "num_pitchers = at_bats_2025[\"pitcher_idx\"].nunique()"
   ]
  },
  {
   "cell_type": "code",
   "execution_count": null,
   "metadata": {
    "colab": {
     "base_uri": "https://localhost:8080/",
     "height": 182,
     "referenced_widgets": [
      "8dfa811085e4452b923c678805ac8563",
      "ca3493a0e7d84b1f957f89867e190915"
     ]
    },
    "id": "BnLiTKspZSse",
    "outputId": "5d205b15-3e52-457b-a5ae-cf0fa8790390"
   },
   "outputs": [],
   "source": [
    "with pm.Model() as model:\n",
    "    # Hyperpriors on the scale of batter and pitcher effects\n",
    "    mu_alpha = pm.HalfNormal(\"mu_alpha\", sigma=0.03)\n",
    "    mu_beta = pm.HalfNormal(\"mu_beta\", sigma=1)\n",
    "\n",
    "    # Batter-specific latent parameters (HR ability)\n",
    "    alpha = pm.HalfNormal(\"alpha\", sigma=mu_alpha, shape=num_batters)\n",
    "\n",
    "    # Pitcher-specific latent parameters (HR suppression ability)\n",
    "    beta = pm.HalfNormal(\"beta\", sigma=mu_beta, shape=num_pitchers)\n",
    "\n",
    "    # Home run probability using a Beta-mean-like functional form\n",
    "    theta = alpha[at_bats_2025[\"batter_idx\"].values] / (\n",
    "        alpha[at_bats_2025[\"batter_idx\"].values] + beta[at_bats_2025[\"pitcher_idx\"].values]\n",
    "    )\n",
    "\n",
    "    # Bernoulli likelihood for observed home run outcomes\n",
    "    y_obs = pm.Bernoulli(\"y_obs\", p=theta, observed=at_bats_2025[\"home_run\"].values)\n",
    "\n",
    "    # Draw posterior samples\n",
    "    trace = pm.sample(2000, tune=1000, target_accept=0.9, chains=4, random_seed=42)"
   ]
  },
  {
   "cell_type": "markdown",
   "metadata": {
    "id": "jeyFkXw3h8-H"
   },
   "source": [
    "## Evaluation"
   ]
  },
  {
   "cell_type": "code",
   "execution_count": null,
   "metadata": {
    "colab": {
     "base_uri": "https://localhost:8080/",
     "height": 419
    },
    "id": "4gzEj9v5ZTWp",
    "outputId": "36708d63-7bb6-4278-82f1-203c0ab6f9e2"
   },
   "outputs": [],
   "source": [
    "# Display summary statistics for selected model parameters\n",
    "az.summary(trace, var_names=[\"mu_alpha\", \"mu_beta\", \"alpha\", \"beta\"])"
   ]
  },
  {
   "cell_type": "code",
   "execution_count": null,
   "metadata": {
    "colab": {
     "base_uri": "https://localhost:8080/",
     "height": 765
    },
    "id": "DINJGsgGdPoQ",
    "outputId": "77aa979a-b01e-4c05-e649-aa74e679aa20"
   },
   "outputs": [],
   "source": [
    "# Plot the trace and posterior density for the hyperparameters mu_alpha and mu_beta\n",
    "az.plot_trace(trace, var_names=[\"mu_alpha\", \"mu_beta\"], figsize=(12, 8), compact=True)"
   ]
  },
  {
   "cell_type": "markdown",
   "metadata": {
    "id": "nZc1n614wyMx"
   },
   "source": [
    "# TODO\n",
    "\n",
    "- Analyze Posterior Density Plots and Trace Plots"
   ]
  },
  {
   "cell_type": "markdown",
   "metadata": {
    "id": "i2ADX8vk_yEL"
   },
   "source": [
    "## Prediction\n",
    "\n",
    "On June 10th, Aaron Judge hit a homerun against Kansas City Royals pitcher Noah Cameron. Below, I will estimate the probability that Aaron Judge will hit a homerun against this pitcher as an informal test of the models' performacne."
   ]
  },
  {
   "cell_type": "code",
   "execution_count": null,
   "metadata": {
    "id": "hcS0rFv-mfYv"
   },
   "outputs": [],
   "source": [
    "# Get batter index for Aaron Judge\n",
    "judge_idx = at_bats_2025[at_bats_2025[\"batter_name\"] == \"Aaron Judge\"][\"batter_idx\"].iloc[0]\n",
    "\n",
    "# Get pitcher index for Cameron, Noah (adjusted to match name format in data)\n",
    "cameron_idx = at_bats_2025[at_bats_2025[\"pitcher_name\"] == \"Cameron, Noah\"][\"pitcher_idx\"].iloc[0]"
   ]
  },
  {
   "cell_type": "code",
   "execution_count": null,
   "metadata": {
    "id": "L8U9IkR9g7SR"
   },
   "outputs": [],
   "source": [
    "# Extract posterior samples of α (Judge) and β (Cameron)\n",
    "alpha_samples = trace.posterior[\"alpha\"].values[:, :, judge_idx].flatten()\n",
    "beta_samples = trace.posterior[\"beta\"].values[:, :, cameron_idx].flatten()"
   ]
  },
  {
   "cell_type": "code",
   "execution_count": null,
   "metadata": {
    "id": "4WCB6p9cg7QV"
   },
   "outputs": [],
   "source": [
    "# Compute posterior samples of θ_ij = α_i / (α_i + β_j)\n",
    "theta_samples = alpha_samples / (alpha_samples + beta_samples)"
   ]
  },
  {
   "cell_type": "code",
   "execution_count": null,
   "metadata": {
    "colab": {
     "base_uri": "https://localhost:8080/"
    },
    "id": "t4G-Fd-Yg7N7",
    "outputId": "d74b7446-11ea-4512-a1f8-293b4bc8a087"
   },
   "outputs": [],
   "source": [
    "# Calculate summary statistics\n",
    "mean_prob = np.mean(theta_samples)\n",
    "cred_interval = np.percentile(theta_samples, [2.5, 97.5])\n",
    "\n",
    "# Print predicted probability and 95% credible interval for a single at-bat\n",
    "print(f\"Estimated HR probability for a given at-bat (Aaron Judge vs Cameron, Noah): {mean_prob:.4f}\")\n",
    "print(f\"95% credible interval: [{cred_interval[0]:.4f}, {cred_interval[1]:.4f}]\")\n"
   ]
  },
  {
   "cell_type": "markdown",
   "metadata": {
    "id": "p2yTHhe-BKcp"
   },
   "source": [
    "## TODO\n",
    "\n",
    "- Add in analysis"
   ]
  }
 ],
 "metadata": {
  "colab": {
   "provenance": []
  },
  "kernelspec": {
   "display_name": "Python 3",
   "name": "python3"
  },
  "language_info": {
   "name": "python"
  }
 },
 "nbformat": 4,
 "nbformat_minor": 0
}
